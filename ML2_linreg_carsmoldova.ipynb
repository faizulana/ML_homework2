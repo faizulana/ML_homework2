{
  "nbformat": 4,
  "nbformat_minor": 0,
  "metadata": {
    "colab": {
      "provenance": [],
      "collapsed_sections": []
    },
    "kernelspec": {
      "name": "python3",
      "display_name": "Python 3"
    },
    "language_info": {
      "name": "python"
    }
  },
  "cells": [
    {
      "cell_type": "markdown",
      "source": [
        "# Домашняя работа 2. Линейная регрессия. Работа с датасетом Card Moldova"
      ],
      "metadata": {
        "id": "caB8UXkZKnWC"
      }
    },
    {
      "cell_type": "markdown",
      "source": [
        "Импортируем библиотеки"
      ],
      "metadata": {
        "id": "qt7_nVbRK5YI"
      }
    },
    {
      "cell_type": "code",
      "source": [
        "import pandas as pd\n",
        "from google.colab import files \n",
        "\n",
        "import numpy as np\n",
        "import matplotlib.pyplot as plt \n",
        "import seaborn as sns; \n",
        "\n",
        "from sklearn.model_selection import train_test_split\n",
        "from sklearn.preprocessing import MinMaxScaler\n",
        "from sklearn.preprocessing import StandardScaler"
      ],
      "metadata": {
        "id": "q70LfZhbK8K6"
      },
      "execution_count": null,
      "outputs": []
    },
    {
      "cell_type": "markdown",
      "source": [
        "Класс линейной регрессии без регуляризации"
      ],
      "metadata": {
        "id": "2fcYofHZ3_M-"
      }
    },
    {
      "cell_type": "code",
      "source": [
        "class LinearRegression():\n",
        "    def __init__(self, \n",
        "                 learning_rate = 0.5, \n",
        "                 epochs = 100, \n",
        "                 weights = None, \n",
        "                 bias    = None, \n",
        "                 batch_size   = 1000, \n",
        "                 random_state = 42):\n",
        "        self.lr      = learning_rate\n",
        "        self.epochs  = epochs\n",
        "        self.weights = weights\n",
        "        self.bias    = bias\n",
        "        self.seed    = random_state\n",
        "        self.batch_size = batch_size\n",
        "        self.cost    = np.zeros(epochs)\n",
        "        \n",
        "        # если веса и смещения заданы\n",
        "        if not(self.weights is None) and (self.bias):\n",
        "            if self.weights.size == X.shape[1]:\n",
        "            #совмещаем в один массив, если мы этого не сделали\n",
        "                self.weights = np.append(self.bias,self.weights)\n",
        "    \n",
        "    #метод для прямого распространения\n",
        "    def forward(self, X):\n",
        "        return self.weights.dot(X.T)\n",
        "    \n",
        "    #метод для рассчета функции потерь\n",
        "    def loss(self,yhat, y):\n",
        "        return np.square(yhat - y).sum()/y.size\n",
        "    \n",
        "    #метод для рассчета градиента\n",
        "    def grad_step(self,yhat, y, X):\n",
        "        return 2*np.dot(X.T, (yhat - y)) / y.size\n",
        "    \n",
        "    #метод для обновления весов\n",
        "    def update(self):    \n",
        "        return self.weights - self.lr*self.grad\n",
        "    \n",
        "    #метод для инициализации весов\n",
        "    def init(self, weights_size):\n",
        "        np.random.seed(self.seed)\n",
        "        return np.random.randn(weights_size)/np.sqrt(weights_size)\n",
        "    \n",
        "    #метод для добавления колонки смещения\n",
        "    def add_bias(self, X):\n",
        "        return np.column_stack((np.ones(X.shape[0]), X))\n",
        "\n",
        "    #метод для предсказания значений целевой переменной с текущими весами \n",
        "    def predict(self, X):\n",
        "        yhat = self.forward(self.add_bias(X))\n",
        "        return yhat\n",
        "    \n",
        "    #метод для оценки работы модели\n",
        "    def score(self, X, y):        \n",
        "        yhat = self.predict(X)\n",
        "        return 1-np.sum(np.square(y-yhat))/np.sum(np.square(y-np.mean(y)))\n",
        "\n",
        "     #метод для формирования и загрузки бэтча\n",
        "    def load_batch(self,X,y):\n",
        "        idx_batch = np.random.randint(0,X.shape[0],self.batch_size)\n",
        "        x_batch   = np.take(X, idx_batch, axis=0)\n",
        "        x_batch   = self.add_bias(x_batch)\n",
        "        y_batch   = np.take(y, idx_batch)\n",
        "        return  x_batch, y_batch\n",
        "\n",
        "    #метод обучения модели\n",
        "    def fit(self, X, y):\n",
        "\n",
        "        np.random.seed(self.seed)\n",
        "        \n",
        "        # в начале инициализируются веса и смещение и совмещаются в один массив\n",
        "        if self.weights is None:\n",
        "            self.weights = self.init(X.shape[1])\n",
        "        \n",
        "        if self.bias is None: \n",
        "            self.bias    = self.init(1)\n",
        "        \n",
        "        if self.weights.size == X.shape[1]:\n",
        "            self.weights = np.append(self.bias,self.weights)\n",
        "        \n",
        "        # инициализация градиента, потерь и загрузка батча\n",
        "        self.grad    = np.zeros(self.weights.shape)\n",
        "        self.cost    = np.zeros(self.epochs)\n",
        "\n",
        "        if self.batch_size is None:            \n",
        "            x_batch   = self.add_bias(X)\n",
        "            y_batch   = y\n",
        "        \n",
        "        for i in range(self.epochs): \n",
        "\n",
        "            if self.batch_size: \n",
        "                x_batch, y_batch = self.load_batch(X,y)\n",
        "\n",
        "            yhat         = self.forward(x_batch)\n",
        "            self.grad    = self.grad_step(yhat,  y_batch, x_batch) \n",
        "            self.weights = self.update()  \n",
        "            self.cost[i] = self.loss(yhat,  y_batch)\n",
        "\n",
        "        self.bias = self.weights[0]\n",
        "     \n",
        "    #функция построения графика потерь для проверки работы алгоритма\n",
        "    def plot_cost(self, figsize = (8,4), title = ''):\n",
        "        plt.figure(figsize = figsize)\n",
        "        plt.plot(self.cost)\n",
        "        plt.grid()\n",
        "        plt.xlabel('Эпоха', fontsize = 18)\n",
        "        plt.ylabel('Функция Потерь', fontsize = 18)\n",
        "        plt.title(title, fontsize = 24)\n",
        "        plt.show()\n",
        "    \n",
        "    #функция, возвращающая текущие значения весов и смещения\n",
        "    def get_w_and_b(self):\n",
        "        return (self.weights[1:], self.bias)"
      ],
      "metadata": {
        "id": "-d0bAEC_dK83"
      },
      "execution_count": null,
      "outputs": []
    },
    {
      "cell_type": "markdown",
      "source": [
        "Класс линейной регрессии с эластичной регуляризацией (L1 и L2)"
      ],
      "metadata": {
        "id": "Fu8KgVPN4ET-"
      }
    },
    {
      "cell_type": "code",
      "source": [
        "class ElasticRegression(LinearRegression):\n",
        "    def __init__(self, \n",
        "                 learning_rate = 0.5,\n",
        "                 l1_penalty = 0.001,\n",
        "                 l2_penalty = 0.001,\n",
        "                 epochs = 100, \n",
        "                 weights = None, \n",
        "                 bias    = None, \n",
        "                 batch_size   = 1000, \n",
        "                 random_state = 42):\n",
        "        \n",
        "        super().__init__(learning_rate = learning_rate,\n",
        "                         epochs = epochs, \n",
        "                         weights = weights, \n",
        "                         bias    = bias, \n",
        "                         batch_size   = batch_size, \n",
        "                         random_state = random_state)\n",
        "        self.l1_penalty = l1_penalty\n",
        "        self.l2_penalty = l2_penalty\n",
        "    #рассчет потерь с учетом \"штрафа\" за размер весов\n",
        "    def loss(self,yhat, y):   \n",
        "        l1_term = self.l1_penalty*np.sum(self.weights[1:])\n",
        "        l2_term = (self.l2_penalty/2)*np.sum(np.square(self.weights[1:]))\n",
        "        return np.square(yhat - y).mean() + l1_term + l2_term\n",
        "                  \n",
        "    \n",
        "    #прямое распространение\n",
        "    def update(self):    \n",
        "        l2_term = self.l2_penalty*np.sum(self.weights[1:])\n",
        "        return self.weights - self.lr*(self.grad +  np.sign(self.weights)*self.l1_penalty + l2_term)"
      ],
      "metadata": {
        "id": "Ml8Pngv_gqoU"
      },
      "execution_count": null,
      "outputs": []
    },
    {
      "cell_type": "markdown",
      "source": [
        "Функция предсказания целевой переменной с текущей моделью"
      ],
      "metadata": {
        "id": "CPn9Rg4r4Snv"
      }
    },
    {
      "cell_type": "code",
      "source": [
        "def predict(weights, inputs):\n",
        "    yhat = np.zeros(inputs.shape[0])\n",
        "    \n",
        "    for m in range(inputs.shape[0]):\n",
        "        yhat[m] = inputs[m,:].dot(weights.T)\n",
        "    \n",
        "    return yhat"
      ],
      "metadata": {
        "id": "aEjgIcnv4YTN"
      },
      "execution_count": 1,
      "outputs": []
    },
    {
      "cell_type": "markdown",
      "source": [
        "## Формирование тестовой и тренировочной выборок"
      ],
      "metadata": {
        "id": "Y9npz0fALMEv"
      }
    },
    {
      "cell_type": "markdown",
      "source": [
        "Загрузка датасета"
      ],
      "metadata": {
        "id": "2koImGbb4zKB"
      }
    },
    {
      "cell_type": "code",
      "source": [
        "uploaded = files.upload()"
      ],
      "metadata": {
        "id": "_nIf_e0HMzZI",
        "colab": {
          "base_uri": "https://localhost:8080/",
          "height": 73
        },
        "outputId": "6e090ae6-5a21-42ad-dad6-cabc7b70f86e"
      },
      "execution_count": null,
      "outputs": [
        {
          "output_type": "display_data",
          "data": {
            "text/plain": [
              "<IPython.core.display.HTML object>"
            ],
            "text/html": [
              "\n",
              "     <input type=\"file\" id=\"files-06b73e24-845c-4a18-b2fd-f9a0a64f3d40\" name=\"files[]\" multiple disabled\n",
              "        style=\"border:none\" />\n",
              "     <output id=\"result-06b73e24-845c-4a18-b2fd-f9a0a64f3d40\">\n",
              "      Upload widget is only available when the cell has been executed in the\n",
              "      current browser session. Please rerun this cell to enable.\n",
              "      </output>\n",
              "      <script>// Copyright 2017 Google LLC\n",
              "//\n",
              "// Licensed under the Apache License, Version 2.0 (the \"License\");\n",
              "// you may not use this file except in compliance with the License.\n",
              "// You may obtain a copy of the License at\n",
              "//\n",
              "//      http://www.apache.org/licenses/LICENSE-2.0\n",
              "//\n",
              "// Unless required by applicable law or agreed to in writing, software\n",
              "// distributed under the License is distributed on an \"AS IS\" BASIS,\n",
              "// WITHOUT WARRANTIES OR CONDITIONS OF ANY KIND, either express or implied.\n",
              "// See the License for the specific language governing permissions and\n",
              "// limitations under the License.\n",
              "\n",
              "/**\n",
              " * @fileoverview Helpers for google.colab Python module.\n",
              " */\n",
              "(function(scope) {\n",
              "function span(text, styleAttributes = {}) {\n",
              "  const element = document.createElement('span');\n",
              "  element.textContent = text;\n",
              "  for (const key of Object.keys(styleAttributes)) {\n",
              "    element.style[key] = styleAttributes[key];\n",
              "  }\n",
              "  return element;\n",
              "}\n",
              "\n",
              "// Max number of bytes which will be uploaded at a time.\n",
              "const MAX_PAYLOAD_SIZE = 100 * 1024;\n",
              "\n",
              "function _uploadFiles(inputId, outputId) {\n",
              "  const steps = uploadFilesStep(inputId, outputId);\n",
              "  const outputElement = document.getElementById(outputId);\n",
              "  // Cache steps on the outputElement to make it available for the next call\n",
              "  // to uploadFilesContinue from Python.\n",
              "  outputElement.steps = steps;\n",
              "\n",
              "  return _uploadFilesContinue(outputId);\n",
              "}\n",
              "\n",
              "// This is roughly an async generator (not supported in the browser yet),\n",
              "// where there are multiple asynchronous steps and the Python side is going\n",
              "// to poll for completion of each step.\n",
              "// This uses a Promise to block the python side on completion of each step,\n",
              "// then passes the result of the previous step as the input to the next step.\n",
              "function _uploadFilesContinue(outputId) {\n",
              "  const outputElement = document.getElementById(outputId);\n",
              "  const steps = outputElement.steps;\n",
              "\n",
              "  const next = steps.next(outputElement.lastPromiseValue);\n",
              "  return Promise.resolve(next.value.promise).then((value) => {\n",
              "    // Cache the last promise value to make it available to the next\n",
              "    // step of the generator.\n",
              "    outputElement.lastPromiseValue = value;\n",
              "    return next.value.response;\n",
              "  });\n",
              "}\n",
              "\n",
              "/**\n",
              " * Generator function which is called between each async step of the upload\n",
              " * process.\n",
              " * @param {string} inputId Element ID of the input file picker element.\n",
              " * @param {string} outputId Element ID of the output display.\n",
              " * @return {!Iterable<!Object>} Iterable of next steps.\n",
              " */\n",
              "function* uploadFilesStep(inputId, outputId) {\n",
              "  const inputElement = document.getElementById(inputId);\n",
              "  inputElement.disabled = false;\n",
              "\n",
              "  const outputElement = document.getElementById(outputId);\n",
              "  outputElement.innerHTML = '';\n",
              "\n",
              "  const pickedPromise = new Promise((resolve) => {\n",
              "    inputElement.addEventListener('change', (e) => {\n",
              "      resolve(e.target.files);\n",
              "    });\n",
              "  });\n",
              "\n",
              "  const cancel = document.createElement('button');\n",
              "  inputElement.parentElement.appendChild(cancel);\n",
              "  cancel.textContent = 'Cancel upload';\n",
              "  const cancelPromise = new Promise((resolve) => {\n",
              "    cancel.onclick = () => {\n",
              "      resolve(null);\n",
              "    };\n",
              "  });\n",
              "\n",
              "  // Wait for the user to pick the files.\n",
              "  const files = yield {\n",
              "    promise: Promise.race([pickedPromise, cancelPromise]),\n",
              "    response: {\n",
              "      action: 'starting',\n",
              "    }\n",
              "  };\n",
              "\n",
              "  cancel.remove();\n",
              "\n",
              "  // Disable the input element since further picks are not allowed.\n",
              "  inputElement.disabled = true;\n",
              "\n",
              "  if (!files) {\n",
              "    return {\n",
              "      response: {\n",
              "        action: 'complete',\n",
              "      }\n",
              "    };\n",
              "  }\n",
              "\n",
              "  for (const file of files) {\n",
              "    const li = document.createElement('li');\n",
              "    li.append(span(file.name, {fontWeight: 'bold'}));\n",
              "    li.append(span(\n",
              "        `(${file.type || 'n/a'}) - ${file.size} bytes, ` +\n",
              "        `last modified: ${\n",
              "            file.lastModifiedDate ? file.lastModifiedDate.toLocaleDateString() :\n",
              "                                    'n/a'} - `));\n",
              "    const percent = span('0% done');\n",
              "    li.appendChild(percent);\n",
              "\n",
              "    outputElement.appendChild(li);\n",
              "\n",
              "    const fileDataPromise = new Promise((resolve) => {\n",
              "      const reader = new FileReader();\n",
              "      reader.onload = (e) => {\n",
              "        resolve(e.target.result);\n",
              "      };\n",
              "      reader.readAsArrayBuffer(file);\n",
              "    });\n",
              "    // Wait for the data to be ready.\n",
              "    let fileData = yield {\n",
              "      promise: fileDataPromise,\n",
              "      response: {\n",
              "        action: 'continue',\n",
              "      }\n",
              "    };\n",
              "\n",
              "    // Use a chunked sending to avoid message size limits. See b/62115660.\n",
              "    let position = 0;\n",
              "    do {\n",
              "      const length = Math.min(fileData.byteLength - position, MAX_PAYLOAD_SIZE);\n",
              "      const chunk = new Uint8Array(fileData, position, length);\n",
              "      position += length;\n",
              "\n",
              "      const base64 = btoa(String.fromCharCode.apply(null, chunk));\n",
              "      yield {\n",
              "        response: {\n",
              "          action: 'append',\n",
              "          file: file.name,\n",
              "          data: base64,\n",
              "        },\n",
              "      };\n",
              "\n",
              "      let percentDone = fileData.byteLength === 0 ?\n",
              "          100 :\n",
              "          Math.round((position / fileData.byteLength) * 100);\n",
              "      percent.textContent = `${percentDone}% done`;\n",
              "\n",
              "    } while (position < fileData.byteLength);\n",
              "  }\n",
              "\n",
              "  // All done.\n",
              "  yield {\n",
              "    response: {\n",
              "      action: 'complete',\n",
              "    }\n",
              "  };\n",
              "}\n",
              "\n",
              "scope.google = scope.google || {};\n",
              "scope.google.colab = scope.google.colab || {};\n",
              "scope.google.colab._files = {\n",
              "  _uploadFiles,\n",
              "  _uploadFilesContinue,\n",
              "};\n",
              "})(self);\n",
              "</script> "
            ]
          },
          "metadata": {}
        },
        {
          "output_type": "stream",
          "name": "stdout",
          "text": [
            "Saving cars_moldova_processed.csv to cars_moldova_processed.csv\n"
          ]
        }
      ]
    },
    {
      "cell_type": "code",
      "source": [
        "df = pd.read_csv('/content/cars_moldova_processed.csv')"
      ],
      "metadata": {
        "id": "sC0yCrvaLOge"
      },
      "execution_count": null,
      "outputs": []
    },
    {
      "cell_type": "markdown",
      "source": [
        "Списки столбцов с числовыми и категориальными данными"
      ],
      "metadata": {
        "id": "JsRfw-ItPFVt"
      }
    },
    {
      "cell_type": "code",
      "source": [
        "cat_columns = ['Make', 'Model', 'Style', 'Fuel_type', 'Transmission', 'km_category', 'engine_category']\n",
        "num_columns = ['Year', 'Distance', 'Engine_capacity(cm3)', 'Price(euro)', 'Age', 'km_year', 'Engine_capacity(litre)']"
      ],
      "metadata": {
        "id": "4WmTGWDgPOue"
      },
      "execution_count": null,
      "outputs": []
    },
    {
      "cell_type": "code",
      "source": [
        "df.head(7)"
      ],
      "metadata": {
        "colab": {
          "base_uri": "https://localhost:8080/",
          "height": 350
        },
        "id": "phNBVWOoRh3M",
        "outputId": "57d6ca4e-be42-467a-e3e5-e9f42682cc0c"
      },
      "execution_count": null,
      "outputs": [
        {
          "output_type": "execute_result",
          "data": {
            "text/plain": [
              "         Make         Model  Year      Style  Distance  Engine_capacity(cm3)  \\\n",
              "0      Toyota         Prius  2011  Hatchback  195000.0                1800.0   \n",
              "1     Renault  Grand Scenic  2014  Universal  135000.0                1500.0   \n",
              "2     Renault        Laguna  2012  Universal  110000.0                1500.0   \n",
              "3        Opel         Astra  2006  Universal  200000.0                1600.0   \n",
              "4    Mercedes          Vito  2000   Microvan  300000.0                2200.0   \n",
              "5  Volkswagen        Passat  2010  Universal  290000.0                1390.0   \n",
              "6  Volkswagen       Touareg  2010        SUV  220000.0                2400.0   \n",
              "\n",
              "      Fuel_type Transmission  Price(euro)  Age       km_year km_category  \\\n",
              "0        Hybrid    Automatic       7750.0   11  17727.272727      Middle   \n",
              "1        Diesel       Manual       8550.0    8  16875.000000      Middle   \n",
              "2        Diesel       Manual       6550.0   10  11000.000000      Middle   \n",
              "3  Metan/Propan       Manual       4100.0   16  12500.000000      Middle   \n",
              "4        Diesel       Manual       3490.0   22  13636.363636      Middle   \n",
              "5        Petrol       Manual       5600.0   12  24166.666667         Big   \n",
              "6        Diesel    Automatic      17000.0   12  18333.333333      Middle   \n",
              "\n",
              "   Engine_capacity(litre) engine_category  \n",
              "0                    1.80           Small  \n",
              "1                    1.50           Small  \n",
              "2                    1.50           Small  \n",
              "3                    1.60           Small  \n",
              "4                    2.20          Medium  \n",
              "5                    1.39           Small  \n",
              "6                    2.40          Medium  "
            ],
            "text/html": [
              "\n",
              "  <div id=\"df-cc641cdc-0a2c-4e0e-8bab-983367a5f57e\">\n",
              "    <div class=\"colab-df-container\">\n",
              "      <div>\n",
              "<style scoped>\n",
              "    .dataframe tbody tr th:only-of-type {\n",
              "        vertical-align: middle;\n",
              "    }\n",
              "\n",
              "    .dataframe tbody tr th {\n",
              "        vertical-align: top;\n",
              "    }\n",
              "\n",
              "    .dataframe thead th {\n",
              "        text-align: right;\n",
              "    }\n",
              "</style>\n",
              "<table border=\"1\" class=\"dataframe\">\n",
              "  <thead>\n",
              "    <tr style=\"text-align: right;\">\n",
              "      <th></th>\n",
              "      <th>Make</th>\n",
              "      <th>Model</th>\n",
              "      <th>Year</th>\n",
              "      <th>Style</th>\n",
              "      <th>Distance</th>\n",
              "      <th>Engine_capacity(cm3)</th>\n",
              "      <th>Fuel_type</th>\n",
              "      <th>Transmission</th>\n",
              "      <th>Price(euro)</th>\n",
              "      <th>Age</th>\n",
              "      <th>km_year</th>\n",
              "      <th>km_category</th>\n",
              "      <th>Engine_capacity(litre)</th>\n",
              "      <th>engine_category</th>\n",
              "    </tr>\n",
              "  </thead>\n",
              "  <tbody>\n",
              "    <tr>\n",
              "      <th>0</th>\n",
              "      <td>Toyota</td>\n",
              "      <td>Prius</td>\n",
              "      <td>2011</td>\n",
              "      <td>Hatchback</td>\n",
              "      <td>195000.0</td>\n",
              "      <td>1800.0</td>\n",
              "      <td>Hybrid</td>\n",
              "      <td>Automatic</td>\n",
              "      <td>7750.0</td>\n",
              "      <td>11</td>\n",
              "      <td>17727.272727</td>\n",
              "      <td>Middle</td>\n",
              "      <td>1.80</td>\n",
              "      <td>Small</td>\n",
              "    </tr>\n",
              "    <tr>\n",
              "      <th>1</th>\n",
              "      <td>Renault</td>\n",
              "      <td>Grand Scenic</td>\n",
              "      <td>2014</td>\n",
              "      <td>Universal</td>\n",
              "      <td>135000.0</td>\n",
              "      <td>1500.0</td>\n",
              "      <td>Diesel</td>\n",
              "      <td>Manual</td>\n",
              "      <td>8550.0</td>\n",
              "      <td>8</td>\n",
              "      <td>16875.000000</td>\n",
              "      <td>Middle</td>\n",
              "      <td>1.50</td>\n",
              "      <td>Small</td>\n",
              "    </tr>\n",
              "    <tr>\n",
              "      <th>2</th>\n",
              "      <td>Renault</td>\n",
              "      <td>Laguna</td>\n",
              "      <td>2012</td>\n",
              "      <td>Universal</td>\n",
              "      <td>110000.0</td>\n",
              "      <td>1500.0</td>\n",
              "      <td>Diesel</td>\n",
              "      <td>Manual</td>\n",
              "      <td>6550.0</td>\n",
              "      <td>10</td>\n",
              "      <td>11000.000000</td>\n",
              "      <td>Middle</td>\n",
              "      <td>1.50</td>\n",
              "      <td>Small</td>\n",
              "    </tr>\n",
              "    <tr>\n",
              "      <th>3</th>\n",
              "      <td>Opel</td>\n",
              "      <td>Astra</td>\n",
              "      <td>2006</td>\n",
              "      <td>Universal</td>\n",
              "      <td>200000.0</td>\n",
              "      <td>1600.0</td>\n",
              "      <td>Metan/Propan</td>\n",
              "      <td>Manual</td>\n",
              "      <td>4100.0</td>\n",
              "      <td>16</td>\n",
              "      <td>12500.000000</td>\n",
              "      <td>Middle</td>\n",
              "      <td>1.60</td>\n",
              "      <td>Small</td>\n",
              "    </tr>\n",
              "    <tr>\n",
              "      <th>4</th>\n",
              "      <td>Mercedes</td>\n",
              "      <td>Vito</td>\n",
              "      <td>2000</td>\n",
              "      <td>Microvan</td>\n",
              "      <td>300000.0</td>\n",
              "      <td>2200.0</td>\n",
              "      <td>Diesel</td>\n",
              "      <td>Manual</td>\n",
              "      <td>3490.0</td>\n",
              "      <td>22</td>\n",
              "      <td>13636.363636</td>\n",
              "      <td>Middle</td>\n",
              "      <td>2.20</td>\n",
              "      <td>Medium</td>\n",
              "    </tr>\n",
              "    <tr>\n",
              "      <th>5</th>\n",
              "      <td>Volkswagen</td>\n",
              "      <td>Passat</td>\n",
              "      <td>2010</td>\n",
              "      <td>Universal</td>\n",
              "      <td>290000.0</td>\n",
              "      <td>1390.0</td>\n",
              "      <td>Petrol</td>\n",
              "      <td>Manual</td>\n",
              "      <td>5600.0</td>\n",
              "      <td>12</td>\n",
              "      <td>24166.666667</td>\n",
              "      <td>Big</td>\n",
              "      <td>1.39</td>\n",
              "      <td>Small</td>\n",
              "    </tr>\n",
              "    <tr>\n",
              "      <th>6</th>\n",
              "      <td>Volkswagen</td>\n",
              "      <td>Touareg</td>\n",
              "      <td>2010</td>\n",
              "      <td>SUV</td>\n",
              "      <td>220000.0</td>\n",
              "      <td>2400.0</td>\n",
              "      <td>Diesel</td>\n",
              "      <td>Automatic</td>\n",
              "      <td>17000.0</td>\n",
              "      <td>12</td>\n",
              "      <td>18333.333333</td>\n",
              "      <td>Middle</td>\n",
              "      <td>2.40</td>\n",
              "      <td>Medium</td>\n",
              "    </tr>\n",
              "  </tbody>\n",
              "</table>\n",
              "</div>\n",
              "      <button class=\"colab-df-convert\" onclick=\"convertToInteractive('df-cc641cdc-0a2c-4e0e-8bab-983367a5f57e')\"\n",
              "              title=\"Convert this dataframe to an interactive table.\"\n",
              "              style=\"display:none;\">\n",
              "        \n",
              "  <svg xmlns=\"http://www.w3.org/2000/svg\" height=\"24px\"viewBox=\"0 0 24 24\"\n",
              "       width=\"24px\">\n",
              "    <path d=\"M0 0h24v24H0V0z\" fill=\"none\"/>\n",
              "    <path d=\"M18.56 5.44l.94 2.06.94-2.06 2.06-.94-2.06-.94-.94-2.06-.94 2.06-2.06.94zm-11 1L8.5 8.5l.94-2.06 2.06-.94-2.06-.94L8.5 2.5l-.94 2.06-2.06.94zm10 10l.94 2.06.94-2.06 2.06-.94-2.06-.94-.94-2.06-.94 2.06-2.06.94z\"/><path d=\"M17.41 7.96l-1.37-1.37c-.4-.4-.92-.59-1.43-.59-.52 0-1.04.2-1.43.59L10.3 9.45l-7.72 7.72c-.78.78-.78 2.05 0 2.83L4 21.41c.39.39.9.59 1.41.59.51 0 1.02-.2 1.41-.59l7.78-7.78 2.81-2.81c.8-.78.8-2.07 0-2.86zM5.41 20L4 18.59l7.72-7.72 1.47 1.35L5.41 20z\"/>\n",
              "  </svg>\n",
              "      </button>\n",
              "      \n",
              "  <style>\n",
              "    .colab-df-container {\n",
              "      display:flex;\n",
              "      flex-wrap:wrap;\n",
              "      gap: 12px;\n",
              "    }\n",
              "\n",
              "    .colab-df-convert {\n",
              "      background-color: #E8F0FE;\n",
              "      border: none;\n",
              "      border-radius: 50%;\n",
              "      cursor: pointer;\n",
              "      display: none;\n",
              "      fill: #1967D2;\n",
              "      height: 32px;\n",
              "      padding: 0 0 0 0;\n",
              "      width: 32px;\n",
              "    }\n",
              "\n",
              "    .colab-df-convert:hover {\n",
              "      background-color: #E2EBFA;\n",
              "      box-shadow: 0px 1px 2px rgba(60, 64, 67, 0.3), 0px 1px 3px 1px rgba(60, 64, 67, 0.15);\n",
              "      fill: #174EA6;\n",
              "    }\n",
              "\n",
              "    [theme=dark] .colab-df-convert {\n",
              "      background-color: #3B4455;\n",
              "      fill: #D2E3FC;\n",
              "    }\n",
              "\n",
              "    [theme=dark] .colab-df-convert:hover {\n",
              "      background-color: #434B5C;\n",
              "      box-shadow: 0px 1px 3px 1px rgba(0, 0, 0, 0.15);\n",
              "      filter: drop-shadow(0px 1px 2px rgba(0, 0, 0, 0.3));\n",
              "      fill: #FFFFFF;\n",
              "    }\n",
              "  </style>\n",
              "\n",
              "      <script>\n",
              "        const buttonEl =\n",
              "          document.querySelector('#df-cc641cdc-0a2c-4e0e-8bab-983367a5f57e button.colab-df-convert');\n",
              "        buttonEl.style.display =\n",
              "          google.colab.kernel.accessAllowed ? 'block' : 'none';\n",
              "\n",
              "        async function convertToInteractive(key) {\n",
              "          const element = document.querySelector('#df-cc641cdc-0a2c-4e0e-8bab-983367a5f57e');\n",
              "          const dataTable =\n",
              "            await google.colab.kernel.invokeFunction('convertToInteractive',\n",
              "                                                     [key], {});\n",
              "          if (!dataTable) return;\n",
              "\n",
              "          const docLinkHtml = 'Like what you see? Visit the ' +\n",
              "            '<a target=\"_blank\" href=https://colab.research.google.com/notebooks/data_table.ipynb>data table notebook</a>'\n",
              "            + ' to learn more about interactive tables.';\n",
              "          element.innerHTML = '';\n",
              "          dataTable['output_type'] = 'display_data';\n",
              "          await google.colab.output.renderOutput(dataTable, element);\n",
              "          const docLink = document.createElement('div');\n",
              "          docLink.innerHTML = docLinkHtml;\n",
              "          element.appendChild(docLink);\n",
              "        }\n",
              "      </script>\n",
              "    </div>\n",
              "  </div>\n",
              "  "
            ]
          },
          "metadata": {},
          "execution_count": 75
        }
      ]
    },
    {
      "cell_type": "markdown",
      "source": [
        "Разбиваем на тренировочную и тестовые выборки"
      ],
      "metadata": {
        "id": "tg17NN8fOy2Q"
      }
    },
    {
      "cell_type": "code",
      "source": [
        "df_numerical = df[num_columns].copy()\n",
        "\n",
        "X = df_numerical.drop(columns = 'Price(euro)').values\n",
        "features_names = df_numerical.drop(columns = 'Price(euro)').columns\n",
        "\n",
        "y = df_numerical['Price(euro)'].values\n",
        "\n",
        "X_train, X_test, y_train, y_test = train_test_split(X, y, test_size=0.3, random_state=42)\n",
        "\n",
        "scaler  = MinMaxScaler()\n",
        "scaler.fit_transform(X_train)\n",
        "X_train = scaler.transform(X_train) \n",
        "X_test  = scaler.transform(X_test) "
      ],
      "metadata": {
        "id": "tAnqTqgZLeeL"
      },
      "execution_count": null,
      "outputs": []
    },
    {
      "cell_type": "markdown",
      "source": [
        "## Реализация линейной регрессии"
      ],
      "metadata": {
        "id": "q-6rc3DcbnFb"
      }
    },
    {
      "cell_type": "code",
      "source": [
        "regr = ElasticRegression(learning_rate=0.3, epochs=300, batch_size=3000, l1_penalty = 0.1, l2_penalty = 0.001 )\n",
        "regr.fit(X_train, y_train)\n",
        "\n",
        "regr.plot_cost()\n",
        "\n",
        "print(regr.score(X_test, y_test), regr.score(X_train, y_train))\n",
        "print( 'train R2: %.4f; test R2: %.4f' % (regr.score(X_train, y_train), regr.score(X_test, y_test)))"
      ],
      "metadata": {
        "colab": {
          "base_uri": "https://localhost:8080/",
          "height": 333
        },
        "id": "2cfucc-ki4Zj",
        "outputId": "d09cad65-610a-40cb-f33f-765ddce8db97"
      },
      "execution_count": null,
      "outputs": [
        {
          "output_type": "display_data",
          "data": {
            "text/plain": [
              "<Figure size 576x288 with 1 Axes>"
            ],
            "image/png": "[encoded data removed]"
          },
          "metadata": {
            "needs_background": "light"
          }
        },
        {
          "output_type": "stream",
          "name": "stdout",
          "text": [
            "0.4750585822696395 0.48602437018672906\n",
            "train R2: 0.4860; test R2: 0.4751\n"
          ]
        }
      ]
    },
    {
      "cell_type": "markdown",
      "source": [
        "## Оценка весов"
      ],
      "metadata": {
        "id": "dLNEXEJDniYy"
      }
    },
    {
      "cell_type": "code",
      "source": [
        "def vis_weigths(weights, names):\n",
        "    numbers = np.arange(0,len(weights))\n",
        "    tick_labels = names\n",
        "    cc=['']*len(numbers)\n",
        "    for n,val in enumerate(weights):\n",
        "        if val<0:\n",
        "            cc[n]='red'\n",
        "        elif val>=0:\n",
        "            cc[n]='blue'\n",
        "\n",
        "    plt.bar(x = numbers, height = weights, color = cc)\n",
        "    plt.xticks(np.arange(0,len(weights)),tick_labels, rotation = 45 );"
      ],
      "metadata": {
        "id": "lZhpABQgnw0P"
      },
      "execution_count": null,
      "outputs": []
    },
    {
      "cell_type": "code",
      "source": [
        "w, b = regr.get_w_and_b()\n",
        "\n",
        "vis_weigths(w, features_names)"
      ],
      "metadata": {
        "colab": {
          "base_uri": "https://localhost:8080/",
          "height": 341
        },
        "id": "YDtwWqxvnoOq",
        "outputId": "7080e77e-ed19-4435-fa2d-d0c8ddcbb73d"
      },
      "execution_count": null,
      "outputs": [
        {
          "output_type": "display_data",
          "data": {
            "text/plain": [
              "<Figure size 432x288 with 1 Axes>"
            ],
            "image/png": "[encoded data removed]"
          },
          "metadata": {
            "needs_background": "light"
          }
        }
      ]
    },
    {
      "cell_type": "markdown",
      "source": [
        "Как мы видим по полученной гистограмме, наиболее значимым параметром является возраст автомобиля, за которым следует пробег, а самым незначимым - удельный пробег в год. Три других параметра также довольно значимы, но немного уступают пробегу."
      ],
      "metadata": {
        "id": "J42csS3kn36A"
      }
    },
    {
      "cell_type": "markdown",
      "source": [
        "## Работа с данными с различными типами предварительной обработки"
      ],
      "metadata": {
        "id": "5Kau6civ5Ggx"
      }
    },
    {
      "cell_type": "markdown",
      "source": [
        "Для оценки результатов с различными типами предварительной обработки загрузим файлы, созданные в домашней работе 1"
      ],
      "metadata": {
        "id": "5yRkEYjEkuFh"
      }
    },
    {
      "cell_type": "markdown",
      "source": [
        "### cars_power - степенное преобразование."
      ],
      "metadata": {
        "id": "e28FA73smKK3"
      }
    },
    {
      "cell_type": "code",
      "source": [
        "up_power = files.upload()"
      ],
      "metadata": {
        "colab": {
          "base_uri": "https://localhost:8080/",
          "height": 73
        },
        "id": "RMmN3ev7msSY",
        "outputId": "9eb56415-434d-43de-bc5d-50bd0c252c0f"
      },
      "execution_count": null,
      "outputs": [
        {
          "output_type": "display_data",
          "data": {
            "text/plain": [
              "<IPython.core.display.HTML object>"
            ],
            "text/html": [
              "\n",
              "     <input type=\"file\" id=\"files-3455a46b-9f01-4855-a067-8e008a909645\" name=\"files[]\" multiple disabled\n",
              "        style=\"border:none\" />\n",
              "     <output id=\"result-3455a46b-9f01-4855-a067-8e008a909645\">\n",
              "      Upload widget is only available when the cell has been executed in the\n",
              "      current browser session. Please rerun this cell to enable.\n",
              "      </output>\n",
              "      <script>// Copyright 2017 Google LLC\n",
              "//\n",
              "// Licensed under the Apache License, Version 2.0 (the \"License\");\n",
              "// you may not use this file except in compliance with the License.\n",
              "// You may obtain a copy of the License at\n",
              "//\n",
              "//      http://www.apache.org/licenses/LICENSE-2.0\n",
              "//\n",
              "// Unless required by applicable law or agreed to in writing, software\n",
              "// distributed under the License is distributed on an \"AS IS\" BASIS,\n",
              "// WITHOUT WARRANTIES OR CONDITIONS OF ANY KIND, either express or implied.\n",
              "// See the License for the specific language governing permissions and\n",
              "// limitations under the License.\n",
              "\n",
              "/**\n",
              " * @fileoverview Helpers for google.colab Python module.\n",
              " */\n",
              "(function(scope) {\n",
              "function span(text, styleAttributes = {}) {\n",
              "  const element = document.createElement('span');\n",
              "  element.textContent = text;\n",
              "  for (const key of Object.keys(styleAttributes)) {\n",
              "    element.style[key] = styleAttributes[key];\n",
              "  }\n",
              "  return element;\n",
              "}\n",
              "\n",
              "// Max number of bytes which will be uploaded at a time.\n",
              "const MAX_PAYLOAD_SIZE = 100 * 1024;\n",
              "\n",
              "function _uploadFiles(inputId, outputId) {\n",
              "  const steps = uploadFilesStep(inputId, outputId);\n",
              "  const outputElement = document.getElementById(outputId);\n",
              "  // Cache steps on the outputElement to make it available for the next call\n",
              "  // to uploadFilesContinue from Python.\n",
              "  outputElement.steps = steps;\n",
              "\n",
              "  return _uploadFilesContinue(outputId);\n",
              "}\n",
              "\n",
              "// This is roughly an async generator (not supported in the browser yet),\n",
              "// where there are multiple asynchronous steps and the Python side is going\n",
              "// to poll for completion of each step.\n",
              "// This uses a Promise to block the python side on completion of each step,\n",
              "// then passes the result of the previous step as the input to the next step.\n",
              "function _uploadFilesContinue(outputId) {\n",
              "  const outputElement = document.getElementById(outputId);\n",
              "  const steps = outputElement.steps;\n",
              "\n",
              "  const next = steps.next(outputElement.lastPromiseValue);\n",
              "  return Promise.resolve(next.value.promise).then((value) => {\n",
              "    // Cache the last promise value to make it available to the next\n",
              "    // step of the generator.\n",
              "    outputElement.lastPromiseValue = value;\n",
              "    return next.value.response;\n",
              "  });\n",
              "}\n",
              "\n",
              "/**\n",
              " * Generator function which is called between each async step of the upload\n",
              " * process.\n",
              " * @param {string} inputId Element ID of the input file picker element.\n",
              " * @param {string} outputId Element ID of the output display.\n",
              " * @return {!Iterable<!Object>} Iterable of next steps.\n",
              " */\n",
              "function* uploadFilesStep(inputId, outputId) {\n",
              "  const inputElement = document.getElementById(inputId);\n",
              "  inputElement.disabled = false;\n",
              "\n",
              "  const outputElement = document.getElementById(outputId);\n",
              "  outputElement.innerHTML = '';\n",
              "\n",
              "  const pickedPromise = new Promise((resolve) => {\n",
              "    inputElement.addEventListener('change', (e) => {\n",
              "      resolve(e.target.files);\n",
              "    });\n",
              "  });\n",
              "\n",
              "  const cancel = document.createElement('button');\n",
              "  inputElement.parentElement.appendChild(cancel);\n",
              "  cancel.textContent = 'Cancel upload';\n",
              "  const cancelPromise = new Promise((resolve) => {\n",
              "    cancel.onclick = () => {\n",
              "      resolve(null);\n",
              "    };\n",
              "  });\n",
              "\n",
              "  // Wait for the user to pick the files.\n",
              "  const files = yield {\n",
              "    promise: Promise.race([pickedPromise, cancelPromise]),\n",
              "    response: {\n",
              "      action: 'starting',\n",
              "    }\n",
              "  };\n",
              "\n",
              "  cancel.remove();\n",
              "\n",
              "  // Disable the input element since further picks are not allowed.\n",
              "  inputElement.disabled = true;\n",
              "\n",
              "  if (!files) {\n",
              "    return {\n",
              "      response: {\n",
              "        action: 'complete',\n",
              "      }\n",
              "    };\n",
              "  }\n",
              "\n",
              "  for (const file of files) {\n",
              "    const li = document.createElement('li');\n",
              "    li.append(span(file.name, {fontWeight: 'bold'}));\n",
              "    li.append(span(\n",
              "        `(${file.type || 'n/a'}) - ${file.size} bytes, ` +\n",
              "        `last modified: ${\n",
              "            file.lastModifiedDate ? file.lastModifiedDate.toLocaleDateString() :\n",
              "                                    'n/a'} - `));\n",
              "    const percent = span('0% done');\n",
              "    li.appendChild(percent);\n",
              "\n",
              "    outputElement.appendChild(li);\n",
              "\n",
              "    const fileDataPromise = new Promise((resolve) => {\n",
              "      const reader = new FileReader();\n",
              "      reader.onload = (e) => {\n",
              "        resolve(e.target.result);\n",
              "      };\n",
              "      reader.readAsArrayBuffer(file);\n",
              "    });\n",
              "    // Wait for the data to be ready.\n",
              "    let fileData = yield {\n",
              "      promise: fileDataPromise,\n",
              "      response: {\n",
              "        action: 'continue',\n",
              "      }\n",
              "    };\n",
              "\n",
              "    // Use a chunked sending to avoid message size limits. See b/62115660.\n",
              "    let position = 0;\n",
              "    do {\n",
              "      const length = Math.min(fileData.byteLength - position, MAX_PAYLOAD_SIZE);\n",
              "      const chunk = new Uint8Array(fileData, position, length);\n",
              "      position += length;\n",
              "\n",
              "      const base64 = btoa(String.fromCharCode.apply(null, chunk));\n",
              "      yield {\n",
              "        response: {\n",
              "          action: 'append',\n",
              "          file: file.name,\n",
              "          data: base64,\n",
              "        },\n",
              "      };\n",
              "\n",
              "      let percentDone = fileData.byteLength === 0 ?\n",
              "          100 :\n",
              "          Math.round((position / fileData.byteLength) * 100);\n",
              "      percent.textContent = `${percentDone}% done`;\n",
              "\n",
              "    } while (position < fileData.byteLength);\n",
              "  }\n",
              "\n",
              "  // All done.\n",
              "  yield {\n",
              "    response: {\n",
              "      action: 'complete',\n",
              "    }\n",
              "  };\n",
              "}\n",
              "\n",
              "scope.google = scope.google || {};\n",
              "scope.google.colab = scope.google.colab || {};\n",
              "scope.google.colab._files = {\n",
              "  _uploadFiles,\n",
              "  _uploadFilesContinue,\n",
              "};\n",
              "})(self);\n",
              "</script> "
            ]
          },
          "metadata": {}
        },
        {
          "output_type": "stream",
          "name": "stdout",
          "text": [
            "Saving cars_power.csv to cars_power.csv\n"
          ]
        }
      ]
    },
    {
      "cell_type": "code",
      "source": [
        "cars_power = pd.read_csv('/content/cars_power.csv')"
      ],
      "metadata": {
        "id": "IuBKaoKImvtL"
      },
      "execution_count": null,
      "outputs": []
    },
    {
      "cell_type": "code",
      "source": [
        "df_num_p = cars_power[num_columns].copy()\n",
        "\n",
        "X = df_num_p.drop(columns = 'Price(euro)').values\n",
        "features_names = df_num_p.drop(columns = 'Price(euro)').columns\n",
        "\n",
        "y = df_num_p['Price(euro)'].values\n",
        "\n",
        "X_train, X_test, y_train, y_test = train_test_split(X, y, test_size=0.3, random_state=42)\n",
        "\n",
        "scaler  = MinMaxScaler()\n",
        "scaler.fit_transform(X_train)\n",
        "X_train = scaler.transform(X_train) \n",
        "X_test  = scaler.transform(X_test) "
      ],
      "metadata": {
        "id": "gkNca9tjqYkQ"
      },
      "execution_count": null,
      "outputs": []
    },
    {
      "cell_type": "code",
      "source": [
        "regr = ElasticRegression(learning_rate=0.1, epochs=600, batch_size=3000, l1_penalty = 0.001, l2_penalty = 0.001 )\n",
        "regr.fit(X_train, y_train)\n",
        "\n",
        "regr.plot_cost()\n",
        "\n",
        "print(regr.score(X_test, y_test), regr.score(X_train, y_train))\n",
        "print( 'train R2: %.4f; test R2: %.4f' % (regr.score(X_train, y_train), regr.score(X_test, y_test)))"
      ],
      "metadata": {
        "colab": {
          "base_uri": "https://localhost:8080/",
          "height": 323
        },
        "id": "cJpAjf4gp--E",
        "outputId": "f7a965fc-8dd8-4a0f-93ed-74b52fff06ad"
      },
      "execution_count": null,
      "outputs": [
        {
          "output_type": "display_data",
          "data": {
            "text/plain": [
              "<Figure size 576x288 with 1 Axes>"
            ],
            "image/png": "[encoded data removed]"
          },
          "metadata": {
            "needs_background": "light"
          }
        },
        {
          "output_type": "stream",
          "name": "stdout",
          "text": [
            "0.6726691149954798 0.6807720372539967\n",
            "train R2: 0.6808; test R2: 0.6727\n"
          ]
        }
      ]
    },
    {
      "cell_type": "markdown",
      "source": [
        "### cars_norm - normalization"
      ],
      "metadata": {
        "id": "Lh0oWBGjlw1e"
      }
    },
    {
      "cell_type": "code",
      "source": [
        "up_norm = files.upload()"
      ],
      "metadata": {
        "colab": {
          "base_uri": "https://localhost:8080/",
          "height": 73
        },
        "id": "8GREEjGrl2N4",
        "outputId": "3d287382-f09f-40e1-af92-88b6fc6d95f5"
      },
      "execution_count": null,
      "outputs": [
        {
          "output_type": "display_data",
          "data": {
            "text/plain": [
              "<IPython.core.display.HTML object>"
            ],
            "text/html": [
              "\n",
              "     <input type=\"file\" id=\"files-4cc50b9c-03b8-4ed7-bf01-389774fb9179\" name=\"files[]\" multiple disabled\n",
              "        style=\"border:none\" />\n",
              "     <output id=\"result-4cc50b9c-03b8-4ed7-bf01-389774fb9179\">\n",
              "      Upload widget is only available when the cell has been executed in the\n",
              "      current browser session. Please rerun this cell to enable.\n",
              "      </output>\n",
              "      <script>// Copyright 2017 Google LLC\n",
              "//\n",
              "// Licensed under the Apache License, Version 2.0 (the \"License\");\n",
              "// you may not use this file except in compliance with the License.\n",
              "// You may obtain a copy of the License at\n",
              "//\n",
              "//      http://www.apache.org/licenses/LICENSE-2.0\n",
              "//\n",
              "// Unless required by applicable law or agreed to in writing, software\n",
              "// distributed under the License is distributed on an \"AS IS\" BASIS,\n",
              "// WITHOUT WARRANTIES OR CONDITIONS OF ANY KIND, either express or implied.\n",
              "// See the License for the specific language governing permissions and\n",
              "// limitations under the License.\n",
              "\n",
              "/**\n",
              " * @fileoverview Helpers for google.colab Python module.\n",
              " */\n",
              "(function(scope) {\n",
              "function span(text, styleAttributes = {}) {\n",
              "  const element = document.createElement('span');\n",
              "  element.textContent = text;\n",
              "  for (const key of Object.keys(styleAttributes)) {\n",
              "    element.style[key] = styleAttributes[key];\n",
              "  }\n",
              "  return element;\n",
              "}\n",
              "\n",
              "// Max number of bytes which will be uploaded at a time.\n",
              "const MAX_PAYLOAD_SIZE = 100 * 1024;\n",
              "\n",
              "function _uploadFiles(inputId, outputId) {\n",
              "  const steps = uploadFilesStep(inputId, outputId);\n",
              "  const outputElement = document.getElementById(outputId);\n",
              "  // Cache steps on the outputElement to make it available for the next call\n",
              "  // to uploadFilesContinue from Python.\n",
              "  outputElement.steps = steps;\n",
              "\n",
              "  return _uploadFilesContinue(outputId);\n",
              "}\n",
              "\n",
              "// This is roughly an async generator (not supported in the browser yet),\n",
              "// where there are multiple asynchronous steps and the Python side is going\n",
              "// to poll for completion of each step.\n",
              "// This uses a Promise to block the python side on completion of each step,\n",
              "// then passes the result of the previous step as the input to the next step.\n",
              "function _uploadFilesContinue(outputId) {\n",
              "  const outputElement = document.getElementById(outputId);\n",
              "  const steps = outputElement.steps;\n",
              "\n",
              "  const next = steps.next(outputElement.lastPromiseValue);\n",
              "  return Promise.resolve(next.value.promise).then((value) => {\n",
              "    // Cache the last promise value to make it available to the next\n",
              "    // step of the generator.\n",
              "    outputElement.lastPromiseValue = value;\n",
              "    return next.value.response;\n",
              "  });\n",
              "}\n",
              "\n",
              "/**\n",
              " * Generator function which is called between each async step of the upload\n",
              " * process.\n",
              " * @param {string} inputId Element ID of the input file picker element.\n",
              " * @param {string} outputId Element ID of the output display.\n",
              " * @return {!Iterable<!Object>} Iterable of next steps.\n",
              " */\n",
              "function* uploadFilesStep(inputId, outputId) {\n",
              "  const inputElement = document.getElementById(inputId);\n",
              "  inputElement.disabled = false;\n",
              "\n",
              "  const outputElement = document.getElementById(outputId);\n",
              "  outputElement.innerHTML = '';\n",
              "\n",
              "  const pickedPromise = new Promise((resolve) => {\n",
              "    inputElement.addEventListener('change', (e) => {\n",
              "      resolve(e.target.files);\n",
              "    });\n",
              "  });\n",
              "\n",
              "  const cancel = document.createElement('button');\n",
              "  inputElement.parentElement.appendChild(cancel);\n",
              "  cancel.textContent = 'Cancel upload';\n",
              "  const cancelPromise = new Promise((resolve) => {\n",
              "    cancel.onclick = () => {\n",
              "      resolve(null);\n",
              "    };\n",
              "  });\n",
              "\n",
              "  // Wait for the user to pick the files.\n",
              "  const files = yield {\n",
              "    promise: Promise.race([pickedPromise, cancelPromise]),\n",
              "    response: {\n",
              "      action: 'starting',\n",
              "    }\n",
              "  };\n",
              "\n",
              "  cancel.remove();\n",
              "\n",
              "  // Disable the input element since further picks are not allowed.\n",
              "  inputElement.disabled = true;\n",
              "\n",
              "  if (!files) {\n",
              "    return {\n",
              "      response: {\n",
              "        action: 'complete',\n",
              "      }\n",
              "    };\n",
              "  }\n",
              "\n",
              "  for (const file of files) {\n",
              "    const li = document.createElement('li');\n",
              "    li.append(span(file.name, {fontWeight: 'bold'}));\n",
              "    li.append(span(\n",
              "        `(${file.type || 'n/a'}) - ${file.size} bytes, ` +\n",
              "        `last modified: ${\n",
              "            file.lastModifiedDate ? file.lastModifiedDate.toLocaleDateString() :\n",
              "                                    'n/a'} - `));\n",
              "    const percent = span('0% done');\n",
              "    li.appendChild(percent);\n",
              "\n",
              "    outputElement.appendChild(li);\n",
              "\n",
              "    const fileDataPromise = new Promise((resolve) => {\n",
              "      const reader = new FileReader();\n",
              "      reader.onload = (e) => {\n",
              "        resolve(e.target.result);\n",
              "      };\n",
              "      reader.readAsArrayBuffer(file);\n",
              "    });\n",
              "    // Wait for the data to be ready.\n",
              "    let fileData = yield {\n",
              "      promise: fileDataPromise,\n",
              "      response: {\n",
              "        action: 'continue',\n",
              "      }\n",
              "    };\n",
              "\n",
              "    // Use a chunked sending to avoid message size limits. See b/62115660.\n",
              "    let position = 0;\n",
              "    do {\n",
              "      const length = Math.min(fileData.byteLength - position, MAX_PAYLOAD_SIZE);\n",
              "      const chunk = new Uint8Array(fileData, position, length);\n",
              "      position += length;\n",
              "\n",
              "      const base64 = btoa(String.fromCharCode.apply(null, chunk));\n",
              "      yield {\n",
              "        response: {\n",
              "          action: 'append',\n",
              "          file: file.name,\n",
              "          data: base64,\n",
              "        },\n",
              "      };\n",
              "\n",
              "      let percentDone = fileData.byteLength === 0 ?\n",
              "          100 :\n",
              "          Math.round((position / fileData.byteLength) * 100);\n",
              "      percent.textContent = `${percentDone}% done`;\n",
              "\n",
              "    } while (position < fileData.byteLength);\n",
              "  }\n",
              "\n",
              "  // All done.\n",
              "  yield {\n",
              "    response: {\n",
              "      action: 'complete',\n",
              "    }\n",
              "  };\n",
              "}\n",
              "\n",
              "scope.google = scope.google || {};\n",
              "scope.google.colab = scope.google.colab || {};\n",
              "scope.google.colab._files = {\n",
              "  _uploadFiles,\n",
              "  _uploadFilesContinue,\n",
              "};\n",
              "})(self);\n",
              "</script> "
            ]
          },
          "metadata": {}
        },
        {
          "output_type": "stream",
          "name": "stdout",
          "text": [
            "Saving cars_normalization.csv to cars_normalization.csv\n"
          ]
        }
      ]
    },
    {
      "cell_type": "code",
      "source": [
        "cars_norm = pd.read_csv('/content/cars_normalization.csv')"
      ],
      "metadata": {
        "id": "tR29ixaTl5TK"
      },
      "execution_count": null,
      "outputs": []
    },
    {
      "cell_type": "code",
      "source": [
        "df_num_p = cars_norm[num_columns].copy()\n",
        "\n",
        "X = df_num_p.drop(columns = 'Price(euro)').values\n",
        "features_names = df_num_p.drop(columns = 'Price(euro)').columns\n",
        "\n",
        "y = df_num_p['Price(euro)'].values\n",
        "\n",
        "X_train, X_test, y_train, y_test = train_test_split(X, y, test_size=0.3, random_state=42)\n",
        "\n",
        "scaler  = MinMaxScaler()\n",
        "scaler.fit_transform(X_train)\n",
        "X_train = scaler.transform(X_train) \n",
        "X_test  = scaler.transform(X_test) "
      ],
      "metadata": {
        "id": "lLBBgBfhrmIs"
      },
      "execution_count": null,
      "outputs": []
    },
    {
      "cell_type": "code",
      "source": [
        "regr = ElasticRegression(learning_rate=0.01, epochs=300, batch_size=3000, l1_penalty = 0.0001, l2_penalty = 0.0001 )\n",
        "regr.fit(X_train, y_train)\n",
        "\n",
        "regr.plot_cost()\n",
        "\n",
        "print(regr.score(X_test, y_test), regr.score(X_train, y_train))\n",
        "print( 'train R2: %.4f; test R2: %.4f' % (regr.score(X_train, y_train), regr.score(X_test, y_test)))"
      ],
      "metadata": {
        "colab": {
          "base_uri": "https://localhost:8080/",
          "height": 322
        },
        "id": "XK1LZ9VgroPK",
        "outputId": "b48e47b8-6ea6-4f87-a66d-b812d1704a78"
      },
      "execution_count": null,
      "outputs": [
        {
          "output_type": "display_data",
          "data": {
            "text/plain": [
              "<Figure size 576x288 with 1 Axes>"
            ],
            "image/png": "[encoded data removed]"
          },
          "metadata": {
            "needs_background": "light"
          }
        },
        {
          "output_type": "stream",
          "name": "stdout",
          "text": [
            "-1.267436786862382 -1.1930639184874194\n",
            "train R2: -1.1931; test R2: -1.2674\n"
          ]
        }
      ]
    },
    {
      "cell_type": "markdown",
      "source": [
        "### cars_standard - standartization"
      ],
      "metadata": {
        "id": "eOptkA1vlgyb"
      }
    },
    {
      "cell_type": "code",
      "source": [
        "up_st = files.upload()"
      ],
      "metadata": {
        "colab": {
          "base_uri": "https://localhost:8080/",
          "height": 73
        },
        "id": "7REYsyaYlkMc",
        "outputId": "0b0f4d17-9fea-4269-91b8-ae25e9fbb796"
      },
      "execution_count": null,
      "outputs": [
        {
          "output_type": "display_data",
          "data": {
            "text/plain": [
              "<IPython.core.display.HTML object>"
            ],
            "text/html": [
              "\n",
              "     <input type=\"file\" id=\"files-31fc0ca0-3a72-4dc9-864e-bf37c96efcb7\" name=\"files[]\" multiple disabled\n",
              "        style=\"border:none\" />\n",
              "     <output id=\"result-31fc0ca0-3a72-4dc9-864e-bf37c96efcb7\">\n",
              "      Upload widget is only available when the cell has been executed in the\n",
              "      current browser session. Please rerun this cell to enable.\n",
              "      </output>\n",
              "      <script>// Copyright 2017 Google LLC\n",
              "//\n",
              "// Licensed under the Apache License, Version 2.0 (the \"License\");\n",
              "// you may not use this file except in compliance with the License.\n",
              "// You may obtain a copy of the License at\n",
              "//\n",
              "//      http://www.apache.org/licenses/LICENSE-2.0\n",
              "//\n",
              "// Unless required by applicable law or agreed to in writing, software\n",
              "// distributed under the License is distributed on an \"AS IS\" BASIS,\n",
              "// WITHOUT WARRANTIES OR CONDITIONS OF ANY KIND, either express or implied.\n",
              "// See the License for the specific language governing permissions and\n",
              "// limitations under the License.\n",
              "\n",
              "/**\n",
              " * @fileoverview Helpers for google.colab Python module.\n",
              " */\n",
              "(function(scope) {\n",
              "function span(text, styleAttributes = {}) {\n",
              "  const element = document.createElement('span');\n",
              "  element.textContent = text;\n",
              "  for (const key of Object.keys(styleAttributes)) {\n",
              "    element.style[key] = styleAttributes[key];\n",
              "  }\n",
              "  return element;\n",
              "}\n",
              "\n",
              "// Max number of bytes which will be uploaded at a time.\n",
              "const MAX_PAYLOAD_SIZE = 100 * 1024;\n",
              "\n",
              "function _uploadFiles(inputId, outputId) {\n",
              "  const steps = uploadFilesStep(inputId, outputId);\n",
              "  const outputElement = document.getElementById(outputId);\n",
              "  // Cache steps on the outputElement to make it available for the next call\n",
              "  // to uploadFilesContinue from Python.\n",
              "  outputElement.steps = steps;\n",
              "\n",
              "  return _uploadFilesContinue(outputId);\n",
              "}\n",
              "\n",
              "// This is roughly an async generator (not supported in the browser yet),\n",
              "// where there are multiple asynchronous steps and the Python side is going\n",
              "// to poll for completion of each step.\n",
              "// This uses a Promise to block the python side on completion of each step,\n",
              "// then passes the result of the previous step as the input to the next step.\n",
              "function _uploadFilesContinue(outputId) {\n",
              "  const outputElement = document.getElementById(outputId);\n",
              "  const steps = outputElement.steps;\n",
              "\n",
              "  const next = steps.next(outputElement.lastPromiseValue);\n",
              "  return Promise.resolve(next.value.promise).then((value) => {\n",
              "    // Cache the last promise value to make it available to the next\n",
              "    // step of the generator.\n",
              "    outputElement.lastPromiseValue = value;\n",
              "    return next.value.response;\n",
              "  });\n",
              "}\n",
              "\n",
              "/**\n",
              " * Generator function which is called between each async step of the upload\n",
              " * process.\n",
              " * @param {string} inputId Element ID of the input file picker element.\n",
              " * @param {string} outputId Element ID of the output display.\n",
              " * @return {!Iterable<!Object>} Iterable of next steps.\n",
              " */\n",
              "function* uploadFilesStep(inputId, outputId) {\n",
              "  const inputElement = document.getElementById(inputId);\n",
              "  inputElement.disabled = false;\n",
              "\n",
              "  const outputElement = document.getElementById(outputId);\n",
              "  outputElement.innerHTML = '';\n",
              "\n",
              "  const pickedPromise = new Promise((resolve) => {\n",
              "    inputElement.addEventListener('change', (e) => {\n",
              "      resolve(e.target.files);\n",
              "    });\n",
              "  });\n",
              "\n",
              "  const cancel = document.createElement('button');\n",
              "  inputElement.parentElement.appendChild(cancel);\n",
              "  cancel.textContent = 'Cancel upload';\n",
              "  const cancelPromise = new Promise((resolve) => {\n",
              "    cancel.onclick = () => {\n",
              "      resolve(null);\n",
              "    };\n",
              "  });\n",
              "\n",
              "  // Wait for the user to pick the files.\n",
              "  const files = yield {\n",
              "    promise: Promise.race([pickedPromise, cancelPromise]),\n",
              "    response: {\n",
              "      action: 'starting',\n",
              "    }\n",
              "  };\n",
              "\n",
              "  cancel.remove();\n",
              "\n",
              "  // Disable the input element since further picks are not allowed.\n",
              "  inputElement.disabled = true;\n",
              "\n",
              "  if (!files) {\n",
              "    return {\n",
              "      response: {\n",
              "        action: 'complete',\n",
              "      }\n",
              "    };\n",
              "  }\n",
              "\n",
              "  for (const file of files) {\n",
              "    const li = document.createElement('li');\n",
              "    li.append(span(file.name, {fontWeight: 'bold'}));\n",
              "    li.append(span(\n",
              "        `(${file.type || 'n/a'}) - ${file.size} bytes, ` +\n",
              "        `last modified: ${\n",
              "            file.lastModifiedDate ? file.lastModifiedDate.toLocaleDateString() :\n",
              "                                    'n/a'} - `));\n",
              "    const percent = span('0% done');\n",
              "    li.appendChild(percent);\n",
              "\n",
              "    outputElement.appendChild(li);\n",
              "\n",
              "    const fileDataPromise = new Promise((resolve) => {\n",
              "      const reader = new FileReader();\n",
              "      reader.onload = (e) => {\n",
              "        resolve(e.target.result);\n",
              "      };\n",
              "      reader.readAsArrayBuffer(file);\n",
              "    });\n",
              "    // Wait for the data to be ready.\n",
              "    let fileData = yield {\n",
              "      promise: fileDataPromise,\n",
              "      response: {\n",
              "        action: 'continue',\n",
              "      }\n",
              "    };\n",
              "\n",
              "    // Use a chunked sending to avoid message size limits. See b/62115660.\n",
              "    let position = 0;\n",
              "    do {\n",
              "      const length = Math.min(fileData.byteLength - position, MAX_PAYLOAD_SIZE);\n",
              "      const chunk = new Uint8Array(fileData, position, length);\n",
              "      position += length;\n",
              "\n",
              "      const base64 = btoa(String.fromCharCode.apply(null, chunk));\n",
              "      yield {\n",
              "        response: {\n",
              "          action: 'append',\n",
              "          file: file.name,\n",
              "          data: base64,\n",
              "        },\n",
              "      };\n",
              "\n",
              "      let percentDone = fileData.byteLength === 0 ?\n",
              "          100 :\n",
              "          Math.round((position / fileData.byteLength) * 100);\n",
              "      percent.textContent = `${percentDone}% done`;\n",
              "\n",
              "    } while (position < fileData.byteLength);\n",
              "  }\n",
              "\n",
              "  // All done.\n",
              "  yield {\n",
              "    response: {\n",
              "      action: 'complete',\n",
              "    }\n",
              "  };\n",
              "}\n",
              "\n",
              "scope.google = scope.google || {};\n",
              "scope.google.colab = scope.google.colab || {};\n",
              "scope.google.colab._files = {\n",
              "  _uploadFiles,\n",
              "  _uploadFilesContinue,\n",
              "};\n",
              "})(self);\n",
              "</script> "
            ]
          },
          "metadata": {}
        },
        {
          "output_type": "stream",
          "name": "stdout",
          "text": [
            "Saving cars_standartization.csv to cars_standartization.csv\n"
          ]
        }
      ]
    },
    {
      "cell_type": "code",
      "source": [
        "cars_standard = pd.read_csv('/content/cars_standartization.csv')"
      ],
      "metadata": {
        "id": "MyPnGJ7Olobu"
      },
      "execution_count": null,
      "outputs": []
    },
    {
      "cell_type": "code",
      "source": [
        "df_num_p = cars_standard[num_columns].copy()\n",
        "\n",
        "X = df_num_p.drop(columns = 'Price(euro)').values\n",
        "features_names = df_num_p.drop(columns = 'Price(euro)').columns\n",
        "\n",
        "y = df_num_p['Price(euro)'].values\n",
        "\n",
        "X_train, X_test, y_train, y_test = train_test_split(X, y, test_size=0.3, random_state=42)\n",
        "\n",
        "scaler  = MinMaxScaler()\n",
        "scaler.fit_transform(X_train)\n",
        "X_train = scaler.transform(X_train) \n",
        "X_test  = scaler.transform(X_test) "
      ],
      "metadata": {
        "id": "_HBul3DWp9ZH"
      },
      "execution_count": null,
      "outputs": []
    },
    {
      "cell_type": "code",
      "source": [
        "regr = ElasticRegression(learning_rate=0.2, epochs=400, batch_size=7000, l1_penalty = 0.005, l2_penalty = 0.005 )\n",
        "regr.fit(X_train, y_train)\n",
        "\n",
        "regr.plot_cost()\n",
        "\n",
        "print(regr.score(X_test, y_test), regr.score(X_train, y_train))\n",
        "print( 'train R2: %.4f; test R2: %.4f' % (regr.score(X_train, y_train), regr.score(X_test, y_test)))"
      ],
      "metadata": {
        "colab": {
          "base_uri": "https://localhost:8080/",
          "height": 323
        },
        "id": "OfsVB-eptVYJ",
        "outputId": "8c7085eb-4f3a-455d-fffa-470588db7498"
      },
      "execution_count": null,
      "outputs": [
        {
          "output_type": "display_data",
          "data": {
            "text/plain": [
              "<Figure size 576x288 with 1 Axes>"
            ],
            "image/png": "[encoded data removed]"
          },
          "metadata": {
            "needs_background": "light"
          }
        },
        {
          "output_type": "stream",
          "name": "stdout",
          "text": [
            "0.47552947687589053 0.48401010975558945\n",
            "train R2: 0.4840; test R2: 0.4755\n"
          ]
        }
      ]
    },
    {
      "cell_type": "markdown",
      "source": [
        "В зависимости от метода предварительной обработки изменяется необходимая величина шага. В среднем, все методы предварительной обработки улучшили результат модели, но самые высокие показатели у нормализации и степенного преобразования."
      ],
      "metadata": {
        "id": "1ZKiyRwTtcy4"
      }
    },
    {
      "cell_type": "markdown",
      "source": [
        "### cars_ohe - one hot encoding"
      ],
      "metadata": {
        "id": "t2BoP30blb5f"
      }
    },
    {
      "cell_type": "markdown",
      "source": [
        "Создадим копию датафрейма и заменим все категориальные признаки на числовые с помощью OHE"
      ],
      "metadata": {
        "id": "fCPlNk6v5mIw"
      }
    },
    {
      "cell_type": "code",
      "source": [
        "cars_ohe = df.copy()\n",
        "cars_ohe = pd.get_dummies(cars_ohe)"
      ],
      "metadata": {
        "id": "ljuHhuZ4lDoN"
      },
      "execution_count": null,
      "outputs": []
    },
    {
      "cell_type": "code",
      "source": [
        "df_num_p = cars_ohe.copy()\n",
        "\n",
        "X = df_num_p.drop(columns = 'Price(euro)').values\n",
        "features_names = df_num_p.drop(columns = 'Price(euro)').columns\n",
        "\n",
        "y = df_num_p['Price(euro)'].values\n",
        "\n",
        "X_train, X_test, y_train, y_test = train_test_split(X, y, test_size=0.3, random_state=42)\n",
        "\n",
        "scaler  = MinMaxScaler()\n",
        "scaler.fit_transform(X_train)\n",
        "X_train = scaler.transform(X_train) \n",
        "X_test  = scaler.transform(X_test) "
      ],
      "metadata": {
        "id": "S9yscmZuuYG-"
      },
      "execution_count": null,
      "outputs": []
    },
    {
      "cell_type": "code",
      "source": [
        "regr = ElasticRegression(learning_rate=0.25, epochs=300, batch_size=3000, l1_penalty = 0.001, l2_penalty = 0.001 )\n",
        "regr.fit(X_train, y_train)\n",
        "\n",
        "regr.plot_cost()\n",
        "\n",
        "print(regr.score(X_test, y_test), regr.score(X_train, y_train))\n",
        "print( 'train R2: %.4f; test R2: %.4f' % (regr.score(X_train, y_train), regr.score(X_test, y_test)))"
      ],
      "metadata": {
        "colab": {
          "base_uri": "https://localhost:8080/",
          "height": 333
        },
        "id": "k3Mv3LeaugKk",
        "outputId": "30aabfbc-ca54-4c9c-c27b-d5dd87a842d3"
      },
      "execution_count": null,
      "outputs": [
        {
          "output_type": "display_data",
          "data": {
            "text/plain": [
              "<Figure size 576x288 with 1 Axes>"
            ],
            "image/png": "[encoded data removed]"
          },
          "metadata": {
            "needs_background": "light"
          }
        },
        {
          "output_type": "stream",
          "name": "stdout",
          "text": [
            "0.6058042820302618 0.613427817923522\n",
            "train R2: 0.6134; test R2: 0.6058\n"
          ]
        }
      ]
    },
    {
      "cell_type": "markdown",
      "source": [
        "Используя данные с предварительным one hot encoding удалось добиться более высоких результатов"
      ],
      "metadata": {
        "id": "iM9g6r6rv8HK"
      }
    }
  ]
}